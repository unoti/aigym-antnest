{
 "cells": [
  {
   "cell_type": "code",
   "execution_count": 38,
   "metadata": {},
   "outputs": [],
   "source": [
    "import numpy as np\n",
    "import matplotlib.pyplot as plt"
   ]
  },
  {
   "cell_type": "markdown",
   "metadata": {},
   "source": [
    "## Axes\n",
    "The first thing we've got to decide for our world is the axis orientation.  Suppose the world is a rectangle of size (*w*,*h*).  Do we want the world to have the top-left corner be at (0,0), or do we want the top-left to be (0,*h*)? Let's see how it's being drawn in our environment in OpenGL. In OpenGL, as Y increases we move *up*.  So our origin of (0,0) is going to be in the bottom-left."
   ]
  },
  {
   "cell_type": "markdown",
   "metadata": {},
   "source": [
    "## Relative Direction\n",
    "We need to be able to get a normalized vector pointing from a source point (such as the agent) towards another point (such as food).  That vector should be normalized, so that we can multiply it by a scalar velocity."
   ]
  },
  {
   "cell_type": "code",
   "execution_count": 35,
   "metadata": {},
   "outputs": [],
   "source": [
    "ant=(1,1) # lower left\n",
    "ant_dir = np.linalg"
   ]
  },
  {
   "cell_type": "code",
   "execution_count": 4,
   "metadata": {},
   "outputs": [
    {
     "data": {
      "text/plain": [
       "12.727922061357855"
      ]
     },
     "execution_count": 4,
     "metadata": {},
     "output_type": "execute_result"
    }
   ],
   "source": [
    "np.linalg.norm(np.array([9,9]))"
   ]
  },
  {
   "cell_type": "code",
   "execution_count": 9,
   "metadata": {},
   "outputs": [
    {
     "name": "stdout",
     "output_type": "stream",
     "text": [
      "delta [99 99]\n",
      "ant_norm 140.0071426749364\n",
      "ant_dir [0.70710678 0.70710678]\n"
     ]
    }
   ],
   "source": [
    "ant_looking_at = np.array([100,100])\n",
    "ant_pos = np.array([1,1])\n",
    "ant_delta = ant_looking_at - ant_pos\n",
    "ant_norm = np.linalg.norm(ant_delta)\n",
    "ant_dir = ant_delta / ant_norm\n",
    "print('delta',ant_delta)\n",
    "print('ant_norm',ant_norm)\n",
    "print('ant_dir',ant_dir)"
   ]
  },
  {
   "cell_type": "code",
   "execution_count": 10,
   "metadata": {},
   "outputs": [],
   "source": [
    "def vec_dir(v0, v1):\n",
    "    \"\"\"Returns a normalized vector pointing from v0 towards v1\"\"\"\n",
    "    delta = v1 - v0\n",
    "    norm = np.linalg.norm(delta)\n",
    "    return delta / norm"
   ]
  },
  {
   "cell_type": "code",
   "execution_count": 11,
   "metadata": {},
   "outputs": [
    {
     "data": {
      "text/plain": [
       "array([0.70710678, 0.70710678])"
      ]
     },
     "execution_count": 11,
     "metadata": {},
     "output_type": "execute_result"
    }
   ],
   "source": [
    "vec_dir(ant_pos, (100,100))"
   ]
  },
  {
   "cell_type": "code",
   "execution_count": 23,
   "metadata": {},
   "outputs": [
    {
     "name": "stdout",
     "output_type": "stream",
     "text": [
      "From [1 1] to (100, 100) dir=[0.70710678 0.70710678]\n",
      "From [1 1] to (70, 2) dir=[0.999895   0.01449123]\n",
      "From [1 1] to (50, 12) dir=[0.97571625 0.21903834]\n",
      "From [1 1] to (16, 80) dir=[0.18654062 0.98244725]\n"
     ]
    }
   ],
   "source": [
    "p0 = np.array((1,1))\n",
    "for p in [(100,100), (70,2), (50,12), (16, 80)]:\n",
    "    print('From %s to %s dir=%s' % (p0, p, vec_dir(p0, p)))"
   ]
  },
  {
   "cell_type": "code",
   "execution_count": null,
   "metadata": {},
   "outputs": [],
   "source": [
    "test_vec_dir()"
   ]
  },
  {
   "cell_type": "markdown",
   "metadata": {},
   "source": [
    "## Left vs Right"
   ]
  },
  {
   "cell_type": "markdown",
   "metadata": {},
   "source": [
    "Part of the state is a sensory signal telling the agent whether something (food or the nest) is to the left or right, relative to the current facing direction.  We could do this with a vector *cross product*, or we could do this with angle determination using *atan2*."
   ]
  },
  {
   "cell_type": "code",
   "execution_count": 39,
   "metadata": {},
   "outputs": [],
   "source": [
    "def angle_from(p0, p1):\n",
    "    \"\"\"Returns the angle from p0 to p1\"\"\"\n",
    "    delta = p1 - p0\n",
    "    x, y = delta\n",
    "    return np.arctan2(y, x)"
   ]
  },
  {
   "cell_type": "code",
   "execution_count": 40,
   "metadata": {},
   "outputs": [
    {
     "data": {
      "text/plain": [
       "0.09157985014268566"
      ]
     },
     "execution_count": 40,
     "metadata": {},
     "output_type": "execute_result"
    }
   ],
   "source": [
    "ant = np.array((1,1)) # lower-left\n",
    "target = np.array((99,10)) # Right side and a little up\n",
    "angle_from(ant, target) # Expect this to be a little to the left, or a slight positive angle"
   ]
  },
  {
   "cell_type": "code",
   "execution_count": 41,
   "metadata": {},
   "outputs": [
    {
     "data": {
      "text/plain": [
       "-0.10168885176307704"
      ]
     },
     "execution_count": 41,
     "metadata": {},
     "output_type": "execute_result"
    }
   ],
   "source": [
    "ant = np.array((1,20)) # A little up the left side.\n",
    "target = np.array((99,10)) # Lower-right\n",
    "angle_from(ant, target) # Expect this to be a little to the right, or a slight negative angle"
   ]
  },
  {
   "cell_type": "code",
   "execution_count": 55,
   "metadata": {},
   "outputs": [],
   "source": [
    "def to_deg(a):\n",
    "    return a / np.pi * 180"
   ]
  },
  {
   "cell_type": "code",
   "execution_count": 57,
   "metadata": {},
   "outputs": [
    {
     "data": {
      "text/plain": [
       "(45.0, 90.0, 180.0, 270.0)"
      ]
     },
     "execution_count": 57,
     "metadata": {},
     "output_type": "execute_result"
    }
   ],
   "source": [
    "to_deg(np.pi/4), to_deg(np.pi/2), to_deg(np.pi), to_deg(np.pi * 3 / 2)"
   ]
  },
  {
   "cell_type": "code",
   "execution_count": 89,
   "metadata": {},
   "outputs": [],
   "source": [
    "def relative_angle(p0, dir0, p1):\n",
    "    \"\"\"\n",
    "    p0: A vector with the position of an object.\n",
    "    dir0: A normalized vector indicating the direction the object at p0 is facing.\n",
    "    p1: The position of a target object.\n",
    "    Returns the relative angle left/right that point p1 lies in the field of view of p0.\n",
    "    Returns a positive number if the target is to the left, and negative if it is to the right.\n",
    "    \"\"\"\n",
    "    x0, y0 = dir0\n",
    "    angle0 = np.arctan2(y0, x0)\n",
    "    angle1 = angle_from(p0, p1)\n",
    "    delta_angle = angle1 - angle0\n",
    "    #print('relang p0=%s dir0=%s p1=%s' % (p0, dir0, p1))\n",
    "    #print('angle0=%s angle1=%s delta=%s' % (to_deg(angle0), to_deg(angle1), to_deg(delta_angle)))\n",
    "    return delta_angle"
   ]
  },
  {
   "cell_type": "code",
   "execution_count": 61,
   "metadata": {},
   "outputs": [
    {
     "name": "stdout",
     "output_type": "stream",
     "text": [
      "From [1 1] to (100, 100)\n",
      "angle0=79.13594007791228 angle1=45.0 delta=-34.13594007791228\n",
      "t=(100, 100) a=-34.13594007791228\n",
      "From [1 1] to (70, 2)\n",
      "angle0=79.13594007791228 angle1=0.8303154862580109 delta=-78.30562459165428\n",
      "t=(70, 2) a=-78.30562459165428\n",
      "From [1 1] to (50, 12)\n",
      "angle0=79.13594007791228 angle1=12.65255650055797 delta=-66.48338357735432\n",
      "t=(50, 12) a=-66.48338357735432\n",
      "From [1 1] to (16, 80)\n",
      "angle0=79.13594007791228 angle1=79.24903300681196 delta=0.11309292889967655\n",
      "t=(16, 80) a=0.11309292889967655\n"
     ]
    }
   ],
   "source": [
    "def test_relative_angle():\n",
    "    p0 = np.array((1,1))\n",
    "    p0_facing = np.array((20, 100)) # Looking a little to the right of the top left corner.\n",
    "    p0_dir = vec_dir(p0, p0_facing) # Mostly up and a little right. [0.18847945 0.98207713]\n",
    "    targets = [(100,100), (70,2), (50,12), (16, 80)]\n",
    "    for t in targets:\n",
    "        print('From %s to %s' % (p0, t))\n",
    "        a = relative_angle(p0, p0_dir, t)\n",
    "        print('t=%s a=%s' % (t, to_deg(a)))\n",
    "test_relative_angle()"
   ]
  },
  {
   "cell_type": "code",
   "execution_count": 92,
   "metadata": {},
   "outputs": [],
   "source": [
    "def test_relative_angle2():\n",
    "    def offset(pt, a, r): # Returns a point at the given angle and distance\n",
    "        x0,y0 = pt\n",
    "        x1 = r * np.cos(a) + x0\n",
    "        y1 = r * np.sin(a) + y0\n",
    "        return np.array((x1, y1))\n",
    "    p0 = np.array([20,20])\n",
    "    a = 0\n",
    "    r = 5\n",
    "    # For several points around a circle, select a target point and face that point.\n",
    "    # Then place a target a little to the left of that.\n",
    "    for i in range(8):\n",
    "        p0_dir = vec_dir(p0, offset(p0, a, r))\n",
    "        target_a = a + np.pi/12 # Target is a little to the left\n",
    "        p1 = offset(p0, target_a, r)\n",
    "        ra = relative_angle(p0, p0_dir, p1)\n",
    "        assert (ra  - np.pi/12) < 0.0001, 'expected angle to be equal'\n",
    "        a += np.pi / 8\n",
    "test_relative_angle2()"
   ]
  },
  {
   "cell_type": "code",
   "execution_count": 72,
   "metadata": {},
   "outputs": [
    {
     "data": {
      "text/plain": [
       "170"
      ]
     },
     "execution_count": 72,
     "metadata": {},
     "output_type": "execute_result"
    }
   ],
   "source": [
    "-190 % 360"
   ]
  },
  {
   "cell_type": "code",
   "execution_count": 81,
   "metadata": {},
   "outputs": [
    {
     "data": {
      "text/plain": [
       "(1, 2)"
      ]
     },
     "execution_count": 81,
     "metadata": {},
     "output_type": "execute_result"
    }
   ],
   "source": [
    "pt = np.array([1,2])\n",
    "x,y = pt\n",
    "x,y"
   ]
  },
  {
   "cell_type": "code",
   "execution_count": 98,
   "metadata": {},
   "outputs": [
    {
     "data": {
      "text/plain": [
       "array([ 0.66581168, -0.74611984])"
      ]
     },
     "execution_count": 98,
     "metadata": {},
     "output_type": "execute_result"
    }
   ],
   "source": [
    "x, y = np.random.uniform(-1,1), np.random.uniform(-1, 1)\n",
    "norm = np.linalg.norm((x,y))\n",
    "np.array((x,y)) / norm"
   ]
  },
  {
   "cell_type": "code",
   "execution_count": 99,
   "metadata": {},
   "outputs": [],
   "source": [
    "def random_dir():\n",
    "    x, y = np.random.uniform(-1,1), np.random.uniform(-1, 1)\n",
    "    pt = np.array((x,y))\n",
    "    return pt / np.linalg.norm(pt)"
   ]
  },
  {
   "cell_type": "code",
   "execution_count": 109,
   "metadata": {},
   "outputs": [
    {
     "data": {
      "text/plain": [
       "(array([0.94738055, 0.32010951]), 0.9999999999999999)"
      ]
     },
     "execution_count": 109,
     "metadata": {},
     "output_type": "execute_result"
    }
   ],
   "source": [
    "random_dir(), np.linalg.norm(random_dir())"
   ]
  },
  {
   "cell_type": "code",
   "execution_count": 110,
   "metadata": {},
   "outputs": [
    {
     "data": {
      "text/plain": [
       "1.0"
      ]
     },
     "execution_count": 110,
     "metadata": {},
     "output_type": "execute_result"
    }
   ],
   "source": [
    "np.floor(1.7)"
   ]
  },
  {
   "cell_type": "code",
   "execution_count": null,
   "metadata": {},
   "outputs": [],
   "source": []
  }
 ],
 "metadata": {
  "kernelspec": {
   "display_name": "Python 3",
   "language": "python",
   "name": "python3"
  },
  "language_info": {
   "codemirror_mode": {
    "name": "ipython",
    "version": 3
   },
   "file_extension": ".py",
   "mimetype": "text/x-python",
   "name": "python",
   "nbconvert_exporter": "python",
   "pygments_lexer": "ipython3",
   "version": "3.7.4"
  }
 },
 "nbformat": 4,
 "nbformat_minor": 2
}
